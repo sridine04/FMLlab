{
  "nbformat": 4,
  "nbformat_minor": 0,
  "metadata": {
    "colab": {
      "provenance": [],
      "authorship_tag": "ABX9TyPnjJwluGhxtV4nJlczLGtv",
      "include_colab_link": true
    },
    "kernelspec": {
      "name": "python3",
      "display_name": "Python 3"
    },
    "language_info": {
      "name": "python"
    }
  },
  "cells": [
    {
      "cell_type": "markdown",
      "metadata": {
        "id": "view-in-github",
        "colab_type": "text"
      },
      "source": [
        "<a href=\"https://colab.research.google.com/github/sridinesh04/FMLlab/blob/main/logisticregression(2)ipynb.ipynb\" target=\"_parent\"><img src=\"https://colab.research.google.com/assets/colab-badge.svg\" alt=\"Open In Colab\"/></a>"
      ]
    },
    {
      "cell_type": "code",
      "source": [
        "import matplotlib.pyplot as plt\n",
        "import pandas as pd\n",
        "import numpy as np\n",
        "from sklearn.model_selection import train_test_split\n",
        "from sklearn.preprocessing import StandardScaler\n",
        "from sklearn.linear_model import LogisticRegression\n",
        "from sklearn.metrics import classification_report, confusion_matrix"
      ],
      "metadata": {
        "id": "2-MpTGbjBywm"
      },
      "execution_count": 29,
      "outputs": []
    },
    {
      "cell_type": "code",
      "source": [
        "#loading the dataset\n",
        "data=pd.read_csv(\"/content/fml(datasets)/cars (2).csv\")\n",
        "data.head()\n"
      ],
      "metadata": {
        "colab": {
          "base_uri": "https://localhost:8080/",
          "height": 206
        },
        "id": "HVkfyD3UB141",
        "outputId": "29bd8862-5164-4f7e-b1f3-2b52ff64156d"
      },
      "execution_count": 32,
      "outputs": [
        {
          "output_type": "execute_result",
          "data": {
            "text/plain": [
              "   age  gender  miles   debt  income  sales\n",
              "0   28       0     23      0    4099    620\n",
              "1   26       0     27      0    2677   1792\n",
              "2   30       1     58  41576    6215  27754\n",
              "3   26       1     25  43172    7626  28256\n",
              "4   20       1     17   6979    8071   4438"
            ],
            "text/html": [
              "\n",
              "  <div id=\"df-553c7342-f71b-4c58-acff-f778cc448b48\" class=\"colab-df-container\">\n",
              "    <div>\n",
              "<style scoped>\n",
              "    .dataframe tbody tr th:only-of-type {\n",
              "        vertical-align: middle;\n",
              "    }\n",
              "\n",
              "    .dataframe tbody tr th {\n",
              "        vertical-align: top;\n",
              "    }\n",
              "\n",
              "    .dataframe thead th {\n",
              "        text-align: right;\n",
              "    }\n",
              "</style>\n",
              "<table border=\"1\" class=\"dataframe\">\n",
              "  <thead>\n",
              "    <tr style=\"text-align: right;\">\n",
              "      <th></th>\n",
              "      <th>age</th>\n",
              "      <th>gender</th>\n",
              "      <th>miles</th>\n",
              "      <th>debt</th>\n",
              "      <th>income</th>\n",
              "      <th>sales</th>\n",
              "    </tr>\n",
              "  </thead>\n",
              "  <tbody>\n",
              "    <tr>\n",
              "      <th>0</th>\n",
              "      <td>28</td>\n",
              "      <td>0</td>\n",
              "      <td>23</td>\n",
              "      <td>0</td>\n",
              "      <td>4099</td>\n",
              "      <td>620</td>\n",
              "    </tr>\n",
              "    <tr>\n",
              "      <th>1</th>\n",
              "      <td>26</td>\n",
              "      <td>0</td>\n",
              "      <td>27</td>\n",
              "      <td>0</td>\n",
              "      <td>2677</td>\n",
              "      <td>1792</td>\n",
              "    </tr>\n",
              "    <tr>\n",
              "      <th>2</th>\n",
              "      <td>30</td>\n",
              "      <td>1</td>\n",
              "      <td>58</td>\n",
              "      <td>41576</td>\n",
              "      <td>6215</td>\n",
              "      <td>27754</td>\n",
              "    </tr>\n",
              "    <tr>\n",
              "      <th>3</th>\n",
              "      <td>26</td>\n",
              "      <td>1</td>\n",
              "      <td>25</td>\n",
              "      <td>43172</td>\n",
              "      <td>7626</td>\n",
              "      <td>28256</td>\n",
              "    </tr>\n",
              "    <tr>\n",
              "      <th>4</th>\n",
              "      <td>20</td>\n",
              "      <td>1</td>\n",
              "      <td>17</td>\n",
              "      <td>6979</td>\n",
              "      <td>8071</td>\n",
              "      <td>4438</td>\n",
              "    </tr>\n",
              "  </tbody>\n",
              "</table>\n",
              "</div>\n",
              "    <div class=\"colab-df-buttons\">\n",
              "\n",
              "  <div class=\"colab-df-container\">\n",
              "    <button class=\"colab-df-convert\" onclick=\"convertToInteractive('df-553c7342-f71b-4c58-acff-f778cc448b48')\"\n",
              "            title=\"Convert this dataframe to an interactive table.\"\n",
              "            style=\"display:none;\">\n",
              "\n",
              "  <svg xmlns=\"http://www.w3.org/2000/svg\" height=\"24px\" viewBox=\"0 -960 960 960\">\n",
              "    <path d=\"M120-120v-720h720v720H120Zm60-500h600v-160H180v160Zm220 220h160v-160H400v160Zm0 220h160v-160H400v160ZM180-400h160v-160H180v160Zm440 0h160v-160H620v160ZM180-180h160v-160H180v160Zm440 0h160v-160H620v160Z\"/>\n",
              "  </svg>\n",
              "    </button>\n",
              "\n",
              "  <style>\n",
              "    .colab-df-container {\n",
              "      display:flex;\n",
              "      gap: 12px;\n",
              "    }\n",
              "\n",
              "    .colab-df-convert {\n",
              "      background-color: #E8F0FE;\n",
              "      border: none;\n",
              "      border-radius: 50%;\n",
              "      cursor: pointer;\n",
              "      display: none;\n",
              "      fill: #1967D2;\n",
              "      height: 32px;\n",
              "      padding: 0 0 0 0;\n",
              "      width: 32px;\n",
              "    }\n",
              "\n",
              "    .colab-df-convert:hover {\n",
              "      background-color: #E2EBFA;\n",
              "      box-shadow: 0px 1px 2px rgba(60, 64, 67, 0.3), 0px 1px 3px 1px rgba(60, 64, 67, 0.15);\n",
              "      fill: #174EA6;\n",
              "    }\n",
              "\n",
              "    .colab-df-buttons div {\n",
              "      margin-bottom: 4px;\n",
              "    }\n",
              "\n",
              "    [theme=dark] .colab-df-convert {\n",
              "      background-color: #3B4455;\n",
              "      fill: #D2E3FC;\n",
              "    }\n",
              "\n",
              "    [theme=dark] .colab-df-convert:hover {\n",
              "      background-color: #434B5C;\n",
              "      box-shadow: 0px 1px 3px 1px rgba(0, 0, 0, 0.15);\n",
              "      filter: drop-shadow(0px 1px 2px rgba(0, 0, 0, 0.3));\n",
              "      fill: #FFFFFF;\n",
              "    }\n",
              "  </style>\n",
              "\n",
              "    <script>\n",
              "      const buttonEl =\n",
              "        document.querySelector('#df-553c7342-f71b-4c58-acff-f778cc448b48 button.colab-df-convert');\n",
              "      buttonEl.style.display =\n",
              "        google.colab.kernel.accessAllowed ? 'block' : 'none';\n",
              "\n",
              "      async function convertToInteractive(key) {\n",
              "        const element = document.querySelector('#df-553c7342-f71b-4c58-acff-f778cc448b48');\n",
              "        const dataTable =\n",
              "          await google.colab.kernel.invokeFunction('convertToInteractive',\n",
              "                                                    [key], {});\n",
              "        if (!dataTable) return;\n",
              "\n",
              "        const docLinkHtml = 'Like what you see? Visit the ' +\n",
              "          '<a target=\"_blank\" href=https://colab.research.google.com/notebooks/data_table.ipynb>data table notebook</a>'\n",
              "          + ' to learn more about interactive tables.';\n",
              "        element.innerHTML = '';\n",
              "        dataTable['output_type'] = 'display_data';\n",
              "        await google.colab.output.renderOutput(dataTable, element);\n",
              "        const docLink = document.createElement('div');\n",
              "        docLink.innerHTML = docLinkHtml;\n",
              "        element.appendChild(docLink);\n",
              "      }\n",
              "    </script>\n",
              "  </div>\n",
              "\n",
              "\n",
              "<div id=\"df-47eeb157-4239-4731-972f-eebd62426785\">\n",
              "  <button class=\"colab-df-quickchart\" onclick=\"quickchart('df-47eeb157-4239-4731-972f-eebd62426785')\"\n",
              "            title=\"Suggest charts\"\n",
              "            style=\"display:none;\">\n",
              "\n",
              "<svg xmlns=\"http://www.w3.org/2000/svg\" height=\"24px\"viewBox=\"0 0 24 24\"\n",
              "     width=\"24px\">\n",
              "    <g>\n",
              "        <path d=\"M19 3H5c-1.1 0-2 .9-2 2v14c0 1.1.9 2 2 2h14c1.1 0 2-.9 2-2V5c0-1.1-.9-2-2-2zM9 17H7v-7h2v7zm4 0h-2V7h2v10zm4 0h-2v-4h2v4z\"/>\n",
              "    </g>\n",
              "</svg>\n",
              "  </button>\n",
              "\n",
              "<style>\n",
              "  .colab-df-quickchart {\n",
              "      --bg-color: #E8F0FE;\n",
              "      --fill-color: #1967D2;\n",
              "      --hover-bg-color: #E2EBFA;\n",
              "      --hover-fill-color: #174EA6;\n",
              "      --disabled-fill-color: #AAA;\n",
              "      --disabled-bg-color: #DDD;\n",
              "  }\n",
              "\n",
              "  [theme=dark] .colab-df-quickchart {\n",
              "      --bg-color: #3B4455;\n",
              "      --fill-color: #D2E3FC;\n",
              "      --hover-bg-color: #434B5C;\n",
              "      --hover-fill-color: #FFFFFF;\n",
              "      --disabled-bg-color: #3B4455;\n",
              "      --disabled-fill-color: #666;\n",
              "  }\n",
              "\n",
              "  .colab-df-quickchart {\n",
              "    background-color: var(--bg-color);\n",
              "    border: none;\n",
              "    border-radius: 50%;\n",
              "    cursor: pointer;\n",
              "    display: none;\n",
              "    fill: var(--fill-color);\n",
              "    height: 32px;\n",
              "    padding: 0;\n",
              "    width: 32px;\n",
              "  }\n",
              "\n",
              "  .colab-df-quickchart:hover {\n",
              "    background-color: var(--hover-bg-color);\n",
              "    box-shadow: 0 1px 2px rgba(60, 64, 67, 0.3), 0 1px 3px 1px rgba(60, 64, 67, 0.15);\n",
              "    fill: var(--button-hover-fill-color);\n",
              "  }\n",
              "\n",
              "  .colab-df-quickchart-complete:disabled,\n",
              "  .colab-df-quickchart-complete:disabled:hover {\n",
              "    background-color: var(--disabled-bg-color);\n",
              "    fill: var(--disabled-fill-color);\n",
              "    box-shadow: none;\n",
              "  }\n",
              "\n",
              "  .colab-df-spinner {\n",
              "    border: 2px solid var(--fill-color);\n",
              "    border-color: transparent;\n",
              "    border-bottom-color: var(--fill-color);\n",
              "    animation:\n",
              "      spin 1s steps(1) infinite;\n",
              "  }\n",
              "\n",
              "  @keyframes spin {\n",
              "    0% {\n",
              "      border-color: transparent;\n",
              "      border-bottom-color: var(--fill-color);\n",
              "      border-left-color: var(--fill-color);\n",
              "    }\n",
              "    20% {\n",
              "      border-color: transparent;\n",
              "      border-left-color: var(--fill-color);\n",
              "      border-top-color: var(--fill-color);\n",
              "    }\n",
              "    30% {\n",
              "      border-color: transparent;\n",
              "      border-left-color: var(--fill-color);\n",
              "      border-top-color: var(--fill-color);\n",
              "      border-right-color: var(--fill-color);\n",
              "    }\n",
              "    40% {\n",
              "      border-color: transparent;\n",
              "      border-right-color: var(--fill-color);\n",
              "      border-top-color: var(--fill-color);\n",
              "    }\n",
              "    60% {\n",
              "      border-color: transparent;\n",
              "      border-right-color: var(--fill-color);\n",
              "    }\n",
              "    80% {\n",
              "      border-color: transparent;\n",
              "      border-right-color: var(--fill-color);\n",
              "      border-bottom-color: var(--fill-color);\n",
              "    }\n",
              "    90% {\n",
              "      border-color: transparent;\n",
              "      border-bottom-color: var(--fill-color);\n",
              "    }\n",
              "  }\n",
              "</style>\n",
              "\n",
              "  <script>\n",
              "    async function quickchart(key) {\n",
              "      const quickchartButtonEl =\n",
              "        document.querySelector('#' + key + ' button');\n",
              "      quickchartButtonEl.disabled = true;  // To prevent multiple clicks.\n",
              "      quickchartButtonEl.classList.add('colab-df-spinner');\n",
              "      try {\n",
              "        const charts = await google.colab.kernel.invokeFunction(\n",
              "            'suggestCharts', [key], {});\n",
              "      } catch (error) {\n",
              "        console.error('Error during call to suggestCharts:', error);\n",
              "      }\n",
              "      quickchartButtonEl.classList.remove('colab-df-spinner');\n",
              "      quickchartButtonEl.classList.add('colab-df-quickchart-complete');\n",
              "    }\n",
              "    (() => {\n",
              "      let quickchartButtonEl =\n",
              "        document.querySelector('#df-47eeb157-4239-4731-972f-eebd62426785 button');\n",
              "      quickchartButtonEl.style.display =\n",
              "        google.colab.kernel.accessAllowed ? 'block' : 'none';\n",
              "    })();\n",
              "  </script>\n",
              "</div>\n",
              "\n",
              "    </div>\n",
              "  </div>\n"
            ],
            "application/vnd.google.colaboratory.intrinsic+json": {
              "type": "dataframe",
              "variable_name": "data",
              "summary": "{\n  \"name\": \"data\",\n  \"rows\": 963,\n  \"fields\": [\n    {\n      \"column\": \"age\",\n      \"properties\": {\n        \"dtype\": \"number\",\n        \"std\": 12,\n        \"min\": 19,\n        \"max\": 60,\n        \"num_unique_values\": 42,\n        \"samples\": [\n          21,\n          53,\n          34\n        ],\n        \"semantic_type\": \"\",\n        \"description\": \"\"\n      }\n    },\n    {\n      \"column\": \"gender\",\n      \"properties\": {\n        \"dtype\": \"number\",\n        \"std\": 0,\n        \"min\": 0,\n        \"max\": 1,\n        \"num_unique_values\": 2,\n        \"samples\": [\n          1,\n          0\n        ],\n        \"semantic_type\": \"\",\n        \"description\": \"\"\n      }\n    },\n    {\n      \"column\": \"miles\",\n      \"properties\": {\n        \"dtype\": \"number\",\n        \"std\": 13,\n        \"min\": 10,\n        \"max\": 97,\n        \"num_unique_values\": 65,\n        \"samples\": [\n          37,\n          72\n        ],\n        \"semantic_type\": \"\",\n        \"description\": \"\"\n      }\n    },\n    {\n      \"column\": \"debt\",\n      \"properties\": {\n        \"dtype\": \"number\",\n        \"std\": 18273,\n        \"min\": 0,\n        \"max\": 59770,\n        \"num_unique_values\": 855,\n        \"samples\": [\n          5313,\n          4081\n        ],\n        \"semantic_type\": \"\",\n        \"description\": \"\"\n      }\n    },\n    {\n      \"column\": \"income\",\n      \"properties\": {\n        \"dtype\": \"number\",\n        \"std\": 3260,\n        \"min\": 0,\n        \"max\": 11970,\n        \"num_unique_values\": 887,\n        \"samples\": [\n          8140,\n          8286\n        ],\n        \"semantic_type\": \"\",\n        \"description\": \"\"\n      }\n    },\n    {\n      \"column\": \"sales\",\n      \"properties\": {\n        \"dtype\": \"number\",\n        \"std\": 8986,\n        \"min\": 500,\n        \"max\": 29926,\n        \"num_unique_values\": 932,\n        \"samples\": [\n          2606,\n          648\n        ],\n        \"semantic_type\": \"\",\n        \"description\": \"\"\n      }\n    }\n  ]\n}"
            }
          },
          "metadata": {},
          "execution_count": 32
        }
      ]
    },
    {
      "cell_type": "code",
      "source": [
        "X = data.drop('income', axis=1).values\n",
        "y = data['income'].values"
      ],
      "metadata": {
        "id": "XCq7PW-iCDOM"
      },
      "execution_count": 34,
      "outputs": []
    },
    {
      "cell_type": "code",
      "source": [
        "#split the dataset into training and testing data\n",
        "X_train, X_test, y_train, y_test =train_test_split(X, y, test_size=0.1, random_state=42)"
      ],
      "metadata": {
        "id": "C_sRb1xeCkBu"
      },
      "execution_count": 35,
      "outputs": []
    },
    {
      "cell_type": "code",
      "source": [
        "#normalization of data\n",
        "scaler = StandardScaler()\n",
        "X_train = scaler.fit_transform(X_train)\n"
      ],
      "metadata": {
        "id": "mobSSUcJCqSH"
      },
      "execution_count": 36,
      "outputs": []
    },
    {
      "cell_type": "code",
      "source": [
        "model = LogisticRegression(C=0.01,random_state=42)\n",
        "model.fit(X_train, y_train)\n",
        "LogisticRegression(C=0.01, random_state=42)\n",
        "#normalization of testing data\n",
        "X_test = scaler.transform(X_test)\n",
        "y_pred = model.predict(X_test)\n",
        "model.score(X_train, y_train)"
      ],
      "metadata": {
        "colab": {
          "base_uri": "https://localhost:8080/"
        },
        "id": "ItzAqOXmCuXz",
        "outputId": "4d9e2a01-fc74-4e8c-a02e-ee05252b21a6"
      },
      "execution_count": 37,
      "outputs": [
        {
          "output_type": "execute_result",
          "data": {
            "text/plain": [
              "0.03810623556581986"
            ]
          },
          "metadata": {},
          "execution_count": 37
        }
      ]
    },
    {
      "cell_type": "code",
      "source": [
        "model.score(X_test, y_test)\n"
      ],
      "metadata": {
        "colab": {
          "base_uri": "https://localhost:8080/"
        },
        "id": "-BB_lfhZCzpm",
        "outputId": "b0ff7134-dc28-4962-9fc4-80fa9b008e99"
      },
      "execution_count": 38,
      "outputs": [
        {
          "output_type": "execute_result",
          "data": {
            "text/plain": [
              "0.010309278350515464"
            ]
          },
          "metadata": {},
          "execution_count": 38
        }
      ]
    },
    {
      "cell_type": "code",
      "source": [
        "confusion_matrix(y_test, y_pred)"
      ],
      "metadata": {
        "colab": {
          "base_uri": "https://localhost:8080/"
        },
        "id": "aGiYsXIGC2Zo",
        "outputId": "932c8bfd-cc2a-45e2-b1ff-a3607dacca80"
      },
      "execution_count": 39,
      "outputs": [
        {
          "output_type": "execute_result",
          "data": {
            "text/plain": [
              "array([[1, 0, 0, ..., 0, 0, 0],\n",
              "       [1, 0, 0, ..., 0, 0, 0],\n",
              "       [1, 0, 0, ..., 0, 0, 0],\n",
              "       ...,\n",
              "       [1, 0, 0, ..., 0, 0, 0],\n",
              "       [1, 0, 0, ..., 0, 0, 0],\n",
              "       [1, 0, 0, ..., 0, 0, 0]])"
            ]
          },
          "metadata": {},
          "execution_count": 39
        }
      ]
    },
    {
      "cell_type": "code",
      "source": [
        "print(classification_report(y_test, y_pred))\n"
      ],
      "metadata": {
        "colab": {
          "base_uri": "https://localhost:8080/"
        },
        "id": "65tPrA37C4b7",
        "outputId": "15988ed6-bbf4-4f6b-ab42-00576b8b3ad5"
      },
      "execution_count": 40,
      "outputs": [
        {
          "output_type": "stream",
          "name": "stdout",
          "text": [
            "              precision    recall  f1-score   support\n",
            "\n",
            "           0       0.01      1.00      0.02         1\n",
            "         240       0.00      0.00      0.00         1\n",
            "         740       0.00      0.00      0.00         1\n",
            "        1076       0.00      0.00      0.00         1\n",
            "        1164       0.00      0.00      0.00         1\n",
            "        1168       0.00      0.00      0.00         1\n",
            "        1217       0.00      0.00      0.00         1\n",
            "        1543       0.00      0.00      0.00         1\n",
            "        1577       0.00      0.00      0.00         1\n",
            "        1674       0.00      0.00      0.00         1\n",
            "        1782       0.00      0.00      0.00         1\n",
            "        1816       0.00      0.00      0.00         1\n",
            "        1878       0.00      0.00      0.00         1\n",
            "        2196       0.00      0.00      0.00         1\n",
            "        2436       0.00      0.00      0.00         1\n",
            "        2512       0.00      0.00      0.00         1\n",
            "        2596       0.00      0.00      0.00         1\n",
            "        2920       0.00      0.00      0.00         1\n",
            "        3152       0.00      0.00      0.00         1\n",
            "        3451       0.00      0.00      0.00         1\n",
            "        3500       0.00      0.00      0.00         1\n",
            "        3587       0.00      0.00      0.00         1\n",
            "        3852       0.00      0.00      0.00         1\n",
            "        3912       0.00      0.00      0.00         1\n",
            "        4062       0.00      0.00      0.00         1\n",
            "        4221       0.00      0.00      0.00         1\n",
            "        4298       0.00      0.00      0.00         1\n",
            "        4440       0.00      0.00      0.00         1\n",
            "        4675       0.00      0.00      0.00         1\n",
            "        4686       0.00      0.00      0.00         1\n",
            "        4887       0.00      0.00      0.00         1\n",
            "        4897       0.00      0.00      0.00         1\n",
            "        5216       0.00      0.00      0.00         1\n",
            "        5246       0.00      0.00      0.00         1\n",
            "        5401       0.00      0.00      0.00         1\n",
            "        5490       0.00      0.00      0.00         1\n",
            "        5563       0.00      0.00      0.00         1\n",
            "        6021       0.00      0.00      0.00         1\n",
            "        6043       0.00      0.00      0.00         1\n",
            "        6076       0.00      0.00      0.00         1\n",
            "        6092       0.00      0.00      0.00         1\n",
            "        6143       0.00      0.00      0.00         1\n",
            "        6162       0.00      0.00      0.00         1\n",
            "        6266       0.00      0.00      0.00         1\n",
            "        6415       0.00      0.00      0.00         1\n",
            "        6528       0.00      0.00      0.00         1\n",
            "        6551       0.00      0.00      0.00         1\n",
            "        6796       0.00      0.00      0.00         1\n",
            "        6802       0.00      0.00      0.00         1\n",
            "        6830       0.00      0.00      0.00         1\n",
            "        6874       0.00      0.00      0.00         1\n",
            "        6903       0.00      0.00      0.00         1\n",
            "        7035       0.00      0.00      0.00         1\n",
            "        7037       0.00      0.00      0.00         1\n",
            "        7095       0.00      0.00      0.00         1\n",
            "        7104       0.00      0.00      0.00         1\n",
            "        7125       0.00      0.00      0.00         1\n",
            "        7275       0.00      0.00      0.00         1\n",
            "        7395       0.00      0.00      0.00         1\n",
            "        7458       0.00      0.00      0.00         1\n",
            "        7637       0.00      0.00      0.00         1\n",
            "        7710       0.00      0.00      0.00         1\n",
            "        7750       0.00      0.00      0.00         1\n",
            "        7769       0.00      0.00      0.00         1\n",
            "        7781       0.00      0.00      0.00         1\n",
            "        7912       0.00      0.00      0.00         1\n",
            "        7931       0.00      0.00      0.00         1\n",
            "        8124       0.00      0.00      0.00         1\n",
            "        8485       0.00      0.00      0.00         1\n",
            "        8527       0.00      0.00      0.00         1\n",
            "        8776       0.00      0.00      0.00         1\n",
            "        8967       0.00      0.00      0.00         1\n",
            "        9100       0.00      0.00      0.00         1\n",
            "        9160       0.00      0.00      0.00         1\n",
            "        9438       0.00      0.00      0.00         1\n",
            "        9467       0.00      0.00      0.00         1\n",
            "        9477       0.00      0.00      0.00         1\n",
            "        9491       0.00      0.00      0.00         1\n",
            "        9746       0.00      0.00      0.00         1\n",
            "        9829       0.00      0.00      0.00         1\n",
            "        9863       0.00      0.00      0.00         1\n",
            "        9930       0.00      0.00      0.00         1\n",
            "       10071       0.00      0.00      0.00         1\n",
            "       10232       0.00      0.00      0.00         1\n",
            "       10366       0.00      0.00      0.00         1\n",
            "       10541       0.00      0.00      0.00         1\n",
            "       10566       0.00      0.00      0.00         1\n",
            "       10795       0.00      0.00      0.00         1\n",
            "       10995       0.00      0.00      0.00         1\n",
            "       11201       0.00      0.00      0.00         1\n",
            "       11288       0.00      0.00      0.00         1\n",
            "       11548       0.00      0.00      0.00         1\n",
            "       11629       0.00      0.00      0.00         1\n",
            "       11694       0.00      0.00      0.00         1\n",
            "       11711       0.00      0.00      0.00         1\n",
            "       11876       0.00      0.00      0.00         1\n",
            "       11881       0.00      0.00      0.00         1\n",
            "\n",
            "    accuracy                           0.01        97\n",
            "   macro avg       0.00      0.01      0.00        97\n",
            "weighted avg       0.00      0.01      0.00        97\n",
            "\n"
          ]
        },
        {
          "output_type": "stream",
          "name": "stderr",
          "text": [
            "/usr/local/lib/python3.10/dist-packages/sklearn/metrics/_classification.py:1344: UndefinedMetricWarning: Precision and F-score are ill-defined and being set to 0.0 in labels with no predicted samples. Use `zero_division` parameter to control this behavior.\n",
            "  _warn_prf(average, modifier, msg_start, len(result))\n",
            "/usr/local/lib/python3.10/dist-packages/sklearn/metrics/_classification.py:1344: UndefinedMetricWarning: Precision and F-score are ill-defined and being set to 0.0 in labels with no predicted samples. Use `zero_division` parameter to control this behavior.\n",
            "  _warn_prf(average, modifier, msg_start, len(result))\n",
            "/usr/local/lib/python3.10/dist-packages/sklearn/metrics/_classification.py:1344: UndefinedMetricWarning: Precision and F-score are ill-defined and being set to 0.0 in labels with no predicted samples. Use `zero_division` parameter to control this behavior.\n",
            "  _warn_prf(average, modifier, msg_start, len(result))\n"
          ]
        }
      ]
    }
  ]
}