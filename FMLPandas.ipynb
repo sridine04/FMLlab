{
  "nbformat": 4,
  "nbformat_minor": 0,
  "metadata": {
    "colab": {
      "provenance": [],
      "authorship_tag": "ABX9TyOgAzNlBHvcmwHhPWPyKk8y",
      "include_colab_link": true
    },
    "kernelspec": {
      "name": "python3",
      "display_name": "Python 3"
    },
    "language_info": {
      "name": "python"
    }
  },
  "cells": [
    {
      "cell_type": "markdown",
      "metadata": {
        "id": "view-in-github",
        "colab_type": "text"
      },
      "source": [
        "<a href=\"https://colab.research.google.com/github/sridine04/FMLlab/blob/main/FMLPandas.ipynb\" target=\"_parent\"><img src=\"https://colab.research.google.com/assets/colab-badge.svg\" alt=\"Open In Colab\"/></a>"
      ]
    },
    {
      "cell_type": "markdown",
      "metadata": {
        "id": "HwRloz5qbsBS"
      },
      "source": [
        "## Pandas\n",
        "\n",
        "Pandas is an open source Python package that provides numerous tools for data analysis. The package comes with several data structures that can be used for many different data manipulation tasks. It also has a variety of methods that can be invoked for data analysis, which comes in handy when working on data science and machine learning problems in Python."
      ]
    },
    {
      "cell_type": "markdown",
      "metadata": {
        "id": "erCZySlSbzA2"
      },
      "source": [
        "### Advantages of Using Pandas\n",
        "\n",
        "The following are some of the advantages of the Pandas library:\n",
        "\n",
        "- It can present data in a way that is suitable for data analysis via its Series and DataFrame data structures.\n",
        "- The package contains multiple methods for convenient data filtering.\n",
        "- Pandas has a variety of utilities to perform Input/Output operations in a seamless manner. It can read data from a variety of formats such as CSV, TSV, MS Excel, etc."
      ]
    },
    {
      "cell_type": "markdown",
      "metadata": {
        "id": "u_qgdHvub-Ak"
      },
      "source": [
        "#### How to install pandas ?"
      ]
    },
    {
      "cell_type": "code",
      "metadata": {
        "id": "7XHzWlnJcTL2"
      },
      "source": [
        "# import pandas and np\n",
        "\n",
        "import pandas as pd\n",
        "import numpy as np"
      ],
      "execution_count": null,
      "outputs": []
    },
    {
      "cell_type": "markdown",
      "metadata": {
        "id": "vNQn05HScEVe"
      },
      "source": [
        "### Pandas Data Structures\n",
        "\n",
        "Pandas has two main data structures for data storage:\n",
        "\n",
        "- Series\n",
        "- DataFrame"
      ]
    },
    {
      "cell_type": "markdown",
      "metadata": {
        "id": "3jCdRIsRccjY"
      },
      "source": [
        "#### Series\n",
        "A series is similar to a one-dimensional array. It can store data of any type. The values of a Pandas Series are mutable."
      ]
    },
    {
      "cell_type": "code",
      "metadata": {
        "id": "a5rcS4kQbZRe",
        "colab": {
          "base_uri": "https://localhost:8080/"
        },
        "outputId": "4025bfcf-5e9c-4bd0-816e-ba637b49664a"
      },
      "source": [
        "s1 = pd.Series([1,2,3,4])\n",
        "print(s1)"
      ],
      "execution_count": null,
      "outputs": [
        {
          "output_type": "stream",
          "name": "stdout",
          "text": [
            "0    1\n",
            "1    2\n",
            "2    3\n",
            "3    4\n",
            "dtype: int64\n"
          ]
        }
      ]
    },
    {
      "cell_type": "code",
      "metadata": {
        "id": "BUPVvmDHcnd7"
      },
      "source": [
        "# A Series may also be created from a numpy array.\n",
        "# Let us create a numpy array then convert it into a Pandas Series:\n",
        "\n",
        "fruits = np.array(['apple','orange','mango','pear'])\n",
        "series2 = pd.Series(fruits)\n",
        "print(series2)\n"
      ],
      "execution_count": null,
      "outputs": []
    },
    {
      "cell_type": "markdown",
      "metadata": {
        "id": "MiyzYPTldNGG"
      },
      "source": [
        "#### DataFrame\n",
        "\n",
        "The Pandas DataFrame can be seen as a table. It organizes data into rows and columns, making it a two-dimensional data structure.\n",
        "\n",
        "Potentially, the columns are of a different type and the size of the DataFrame is mutable, and hence can be modified.\n",
        "\n",
        "To create a DataFrame, you can choose to start from scratch or convert other data structures like Numpy arrays into a DataFrame.\n",
        "\n",
        "Here is how you can create a DataFrame from scratch:"
      ]
    },
    {
      "cell_type": "code",
      "metadata": {
        "id": "ryJYQ5FHc_9v"
      },
      "source": [
        "df1 = pd.DataFrame({\n",
        "    \"C1\": [1, 4, 8, 7, 9],\n",
        "    \"C2\": ['a', 'column', 'with', 'a', 'string'],\n",
        "    \"C3\": [1.23, 23.5, 45.6, 32.1234, 89.453],\n",
        "    \"C4\": [True, False, True, False, True]\n",
        "})\n"
      ],
      "execution_count": null,
      "outputs": []
    },
    {
      "cell_type": "code",
      "metadata": {
        "id": "h-eO7s5xdgsM"
      },
      "source": [
        "print(df1)"
      ],
      "execution_count": null,
      "outputs": []
    },
    {
      "cell_type": "code",
      "metadata": {
        "id": "B4577osldhlZ"
      },
      "source": [
        "# It is possible for us to create a DataFrame from a list or even a set of lists.\n",
        "mylist = [4, 8, 12, 16, 20]\n",
        "df2 = pd.DataFrame(mylist)\n",
        "print(df2)"
      ],
      "execution_count": null,
      "outputs": []
    },
    {
      "cell_type": "code",
      "metadata": {
        "id": "xpbhK_nHd38Z"
      },
      "source": [
        "items = [['Phone', 2000], ['TV', 1500], ['Radio', 800]]\n",
        "df3 = pd.DataFrame(items)\n",
        "print(df3)"
      ],
      "execution_count": null,
      "outputs": []
    },
    {
      "cell_type": "code",
      "metadata": {
        "id": "p5XZomV3eJvh"
      },
      "source": [
        "items = [['Phone', 2000], ['TV', 1500], ['Radio', 800]]\n",
        "df4 = pd.DataFrame(items, columns=['Item', 'Price'], dtype=float)\n",
        "print(df4)"
      ],
      "execution_count": null,
      "outputs": []
    },
    {
      "cell_type": "code",
      "metadata": {
        "id": "h47krGmieLPE"
      },
      "source": [
        "# To get a summary of this item's data\n",
        "df4.describe()"
      ],
      "execution_count": null,
      "outputs": []
    },
    {
      "cell_type": "markdown",
      "metadata": {
        "id": "52mnwb1pevWB"
      },
      "source": [
        "### Importing Data\n",
        "Often you'll need to use Pandas to analyze data that is stored in an Excel file or in a CSV file. This requires you to open and import the data from such sources into Pandas."
      ]
    },
    {
      "cell_type": "markdown",
      "metadata": {
        "id": "zYchnz1WfEHS"
      },
      "source": [
        "#### Importing CSV Data\n",
        "\n",
        "A CSV file, which stands for comma separated value, is simply a text file with values separated by a comma (,).\n",
        "\n",
        "This is a very well-known and often-used standard"
      ]
    },
    {
      "cell_type": "code",
      "metadata": {
        "id": "nkmKZWv_fD76"
      },
      "source": [
        "data = pd.read_csv('cars.csv')\n",
        "print(data)"
      ],
      "execution_count": null,
      "outputs": []
    },
    {
      "cell_type": "code",
      "metadata": {
        "id": "DSgQxmbQevE0"
      },
      "source": [
        "data.head()"
      ],
      "execution_count": null,
      "outputs": []
    },
    {
      "cell_type": "code",
      "metadata": {
        "id": "TLOvQTvaee1m"
      },
      "source": [
        "data.tail()"
      ],
      "execution_count": null,
      "outputs": []
    },
    {
      "cell_type": "code",
      "metadata": {
        "id": "zq69Fgh3fp8e"
      },
      "source": [
        "data.head(3)"
      ],
      "execution_count": null,
      "outputs": []
    },
    {
      "cell_type": "code",
      "metadata": {
        "id": "jS44yYwnf0L5"
      },
      "source": [
        "data['Number']"
      ],
      "execution_count": null,
      "outputs": []
    },
    {
      "cell_type": "code",
      "metadata": {
        "id": "l4VhAeCef3Il"
      },
      "source": [
        "data['Capacity']"
      ],
      "execution_count": null,
      "outputs": []
    },
    {
      "cell_type": "code",
      "metadata": {
        "id": "IrFdWzfNfrZC"
      },
      "source": [
        "# The loc() method is a nice utility that helps us read only certain rows of a specific column in the dataset\n",
        "print (data.loc[[0, 4, 7], ['Type']])\n"
      ],
      "execution_count": null,
      "outputs": []
    },
    {
      "cell_type": "code",
      "metadata": {
        "id": "gFviISicf8vr"
      },
      "source": [
        "data.loc[:, ['Type', 'Capacity']]"
      ],
      "execution_count": null,
      "outputs": []
    },
    {
      "cell_type": "code",
      "metadata": {
        "id": "KQR8ceyfgFuK"
      },
      "source": [
        "data.loc[:3, ['Type', 'Capacity']]"
      ],
      "execution_count": null,
      "outputs": []
    },
    {
      "cell_type": "markdown",
      "metadata": {
        "id": "DzSlYTwhgTuS"
      },
      "source": [
        "### Data Wrangling\n",
        "Data wrangling is the process of processing data to prepare it for use in the next step.\n",
        "\n",
        "This processes include merging, grouping, and concatenation.\n",
        "\n",
        "This kind of manipulation is often needed in data science to get your data in to a form that works well with whatever analysis or algorithms that you're going to put it through."
      ]
    },
    {
      "cell_type": "code",
      "metadata": {
        "id": "kKmC35y8gIkI"
      },
      "source": [
        "# Merging\n",
        "d1 = {\n",
        "    'subject_id': ['1', '2', '3', '4', '5'],\n",
        "    'student_name': ['John', 'Emily', 'Kate', 'Joseph', 'Dennis']\n",
        "}\n",
        "\n",
        "d2 = {\n",
        "    'subject_id': ['4', '5', '6', '7', '8'],\n",
        "    'student_name': ['Brian', 'William', 'Lilian', 'Grace', 'Caleb']\n",
        "}\n",
        "\n",
        "df1 = pd.DataFrame(d1, columns=['subject_id', 'student_name'])\n",
        "df2 = pd.DataFrame(d2, columns=['subject_id', 'student_name'])"
      ],
      "execution_count": null,
      "outputs": []
    },
    {
      "cell_type": "code",
      "metadata": {
        "id": "VgOxAmFVg9gs"
      },
      "source": [
        "df1"
      ],
      "execution_count": null,
      "outputs": []
    },
    {
      "cell_type": "code",
      "metadata": {
        "id": "7x2fXrkyg-Pw"
      },
      "source": [
        "df2"
      ],
      "execution_count": null,
      "outputs": []
    },
    {
      "cell_type": "code",
      "metadata": {
        "id": "f8_psXF6g_GJ"
      },
      "source": [
        "pd.merge(df1, df2, on='subject_id')"
      ],
      "execution_count": null,
      "outputs": []
    },
    {
      "cell_type": "code",
      "metadata": {
        "id": "nJce6mqIhRgJ"
      },
      "source": [
        "# Grouping\n",
        "#  process of putting data into various categories.\n",
        "\n",
        "raw = {\n",
        "    'Name': ['John', 'John', 'Grace', 'Grace', 'Benjamin', 'Benjamin', 'Benjamin',\n",
        "        'Benjamin', 'John', 'Alex', 'Alex', 'Alex'],\n",
        "    'Position': [2, 1, 1, 4, 2, 4, 3, 1, 3, 2, 4, 3],\n",
        "    'Year': [2009, 2010, 2009, 2010, 2010, 2010, 2011, 2012, 2011, 2013, 2013, 2012],\n",
        "    'Marks':[408, 398, 422, 376, 401, 380, 396, 388, 356, 402, 368, 378]\n",
        "}\n",
        "df3 = pd.DataFrame(raw)"
      ],
      "execution_count": null,
      "outputs": []
    },
    {
      "cell_type": "code",
      "metadata": {
        "id": "GotC4fYYhl0c"
      },
      "source": [
        "df3"
      ],
      "execution_count": null,
      "outputs": []
    },
    {
      "cell_type": "code",
      "metadata": {
        "id": "yQ4SUIBehmsk"
      },
      "source": [
        "group = df3.groupby('Year')\n"
      ],
      "execution_count": null,
      "outputs": []
    },
    {
      "cell_type": "code",
      "metadata": {
        "id": "k_cijZPthwad"
      },
      "source": [
        "group"
      ],
      "execution_count": null,
      "outputs": []
    },
    {
      "cell_type": "code",
      "metadata": {
        "id": "2cqjtBN5iG0G"
      },
      "source": [
        "group.get_group(2010)"
      ],
      "execution_count": null,
      "outputs": []
    },
    {
      "cell_type": "code",
      "metadata": {
        "id": "VN5BzyTniTSm"
      },
      "source": [
        "#Concatenation\n",
        "# basically means to add one set of data to another\n",
        "print(pd.concat([df1, df2]))\n"
      ],
      "execution_count": null,
      "outputs": []
    },
    {
      "cell_type": "code",
      "metadata": {
        "id": "6zsFGrc7icFe"
      },
      "source": [
        "pd.concat([df1, df2], axis=1)"
      ],
      "execution_count": null,
      "outputs": []
    },
    {
      "cell_type": "markdown",
      "metadata": {
        "id": "mz6rgsCxiquo"
      },
      "source": [
        "### Descriptive Statistics\n",
        "describe() function gives the descriptive statistics for numerical columns, but the character columns are excluded."
      ]
    },
    {
      "cell_type": "code",
      "metadata": {
        "id": "8ROaekmFiiDT"
      },
      "source": [
        "data = {\n",
        "    'Name': ['John', 'Alice', 'Joseph', 'Alex'],\n",
        "    'English': [64, 78, 68, 58],\n",
        "    'Maths': [76, 54, 72, 64]\n",
        "}\n",
        "\n",
        "df = pd.DataFrame(data)\n",
        "df.describe()"
      ],
      "execution_count": null,
      "outputs": []
    }
  ]
}